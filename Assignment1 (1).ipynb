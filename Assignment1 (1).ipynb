{
 "cells": [
  {
   "cell_type": "code",
   "execution_count": 1,
   "id": "317e1656-8c2b-4c6e-8c3b-c1233b45f493",
   "metadata": {},
   "outputs": [],
   "source": [
    "# for loop is used when the number of iterations is known"
   ]
  },
  {
   "cell_type": "code",
   "execution_count": 3,
   "id": "10b3cff0-2791-4355-8f57-094573848e9e",
   "metadata": {},
   "outputs": [
    {
     "name": "stdout",
     "output_type": "stream",
     "text": [
      "0\n",
      "1\n",
      "2\n",
      "3\n",
      "4\n"
     ]
    }
   ],
   "source": [
    "# Question 1\n",
    "for i in range(0,5):\n",
    "    print(i)"
   ]
  },
  {
   "cell_type": "code",
   "execution_count": 4,
   "id": "ad296b10-ac10-4d7c-9428-9b906a77b491",
   "metadata": {},
   "outputs": [],
   "source": [
    "# execution is done in the while loop until the statement in the program is proved wrong"
   ]
  },
  {
   "cell_type": "code",
   "execution_count": 34,
   "id": "e59cf6de-8a2e-4bba-bcb8-1e1a11195fa8",
   "metadata": {},
   "outputs": [
    {
     "name": "stdout",
     "output_type": "stream",
     "text": [
      "0\n",
      "1\n",
      "2\n",
      "3\n",
      "4\n"
     ]
    }
   ],
   "source": [
    "# Question 1\n",
    "j=0\n",
    "while(j<5):\n",
    "    print(j)\n",
    "    j=j+1"
   ]
  },
  {
   "cell_type": "code",
   "execution_count": 25,
   "id": "302d19c8-52be-4b04-9e33-5d9af74f219b",
   "metadata": {},
   "outputs": [
    {
     "name": "stdout",
     "output_type": "stream",
     "text": [
      "sum=  55  product=  3628800\n"
     ]
    }
   ],
   "source": [
    "# Question 2\n",
    "a=0\n",
    "b=1\n",
    "for i in range (1,11):\n",
    "    a=a+i\n",
    "    b=b*i\n",
    "    \n",
    "print('sum= ',a,' product= ',b)\n",
    "    "
   ]
  },
  {
   "cell_type": "code",
   "execution_count": 26,
   "id": "1a0c9c42-6860-476b-8e83-c938a2a58f9f",
   "metadata": {},
   "outputs": [
    {
     "name": "stdout",
     "output_type": "stream",
     "text": [
      "sum=  55  product=  3628800\n"
     ]
    }
   ],
   "source": [
    "# Question 2\n",
    "a=0\n",
    "b=1\n",
    "i=1\n",
    "while i<=10:\n",
    "    a=a+i\n",
    "    b=b*i\n",
    "    i=i+1\n",
    "print('sum= ',a,' product= ',b)"
   ]
  },
  {
   "cell_type": "code",
   "execution_count": 32,
   "id": "20a015ea-8e59-4cc5-a32a-50b457b862c6",
   "metadata": {},
   "outputs": [
    {
     "name": "stdin",
     "output_type": "stream",
     "text": [
      "units=  310\n"
     ]
    },
    {
     "name": "stdout",
     "output_type": "stream",
     "text": [
      "bill=  2250.0\n"
     ]
    }
   ],
   "source": [
    "# Question 3\n",
    "bill=0.0\n",
    "unit=int(input('units= '))\n",
    "if unit <=100:\n",
    "    bill=unit*4.5\n",
    "elif unit > 100 and unit <=200:\n",
    "    bill=100*4.5+(unit-100)*6\n",
    "elif unit > 200 and unit <=300:\n",
    "    bill=100*4.5+100*6+(unit-200)*10\n",
    "else:\n",
    "    bill=100*4.5+100*6+100*10+(unit-300)*20\n",
    "print('bill= ',bill)"
   ]
  },
  {
   "cell_type": "code",
   "execution_count": 35,
   "id": "6dd57457-0e07-452e-8a26-14974a02b8bf",
   "metadata": {},
   "outputs": [
    {
     "data": {
      "text/plain": [
       "2.0"
      ]
     },
     "execution_count": 35,
     "metadata": {},
     "output_type": "execute_result"
    }
   ],
   "source": [
    "10/5\n"
   ]
  },
  {
   "cell_type": "code",
   "execution_count": 36,
   "id": "d2923f29-0984-48cf-adfa-6983fa99ce7a",
   "metadata": {},
   "outputs": [
    {
     "data": {
      "text/plain": [
       "2"
      ]
     },
     "execution_count": 36,
     "metadata": {},
     "output_type": "execute_result"
    }
   ],
   "source": [
    "10//5"
   ]
  },
  {
   "cell_type": "code",
   "execution_count": 37,
   "id": "82c820ce-c318-47c1-a3fc-4c97f4689ff0",
   "metadata": {},
   "outputs": [
    {
     "data": {
      "text/plain": [
       "1.6"
      ]
     },
     "execution_count": 37,
     "metadata": {},
     "output_type": "execute_result"
    }
   ],
   "source": [
    "8/5"
   ]
  },
  {
   "cell_type": "code",
   "execution_count": 39,
   "id": "5644514f-0b10-4ee4-abdf-4196565a0485",
   "metadata": {},
   "outputs": [
    {
     "data": {
      "text/plain": [
       "2"
      ]
     },
     "execution_count": 39,
     "metadata": {},
     "output_type": "execute_result"
    }
   ],
   "source": [
    "12//5"
   ]
  },
  {
   "cell_type": "code",
   "execution_count": 15,
   "id": "41b1375f-eab6-4f3e-8efb-dd42ba358d33",
   "metadata": {},
   "outputs": [
    {
     "data": {
      "text/plain": [
       "[2,\n",
       " 4,\n",
       " 5,\n",
       " 6,\n",
       " 8,\n",
       " 10,\n",
       " 12,\n",
       " 14,\n",
       " 15,\n",
       " 16,\n",
       " 18,\n",
       " 20,\n",
       " 22,\n",
       " 24,\n",
       " 25,\n",
       " 26,\n",
       " 28,\n",
       " 30,\n",
       " 32,\n",
       " 34,\n",
       " 35,\n",
       " 36,\n",
       " 38,\n",
       " 40,\n",
       " 42,\n",
       " 44,\n",
       " 45,\n",
       " 46,\n",
       " 48,\n",
       " 50,\n",
       " 52,\n",
       " 54,\n",
       " 55,\n",
       " 56,\n",
       " 58,\n",
       " 60,\n",
       " 62,\n",
       " 64,\n",
       " 65,\n",
       " 66,\n",
       " 68,\n",
       " 70,\n",
       " 72,\n",
       " 74,\n",
       " 75,\n",
       " 76,\n",
       " 78,\n",
       " 80,\n",
       " 82,\n",
       " 84,\n",
       " 85,\n",
       " 86,\n",
       " 88,\n",
       " 90,\n",
       " 92,\n",
       " 94,\n",
       " 95,\n",
       " 96,\n",
       " 98,\n",
       " 100]"
      ]
     },
     "execution_count": 15,
     "metadata": {},
     "output_type": "execute_result"
    }
   ],
   "source": [
    "# Question 4\n",
    "l=[]\n",
    "j=1\n",
    "for i in range(1,101):\n",
    "    j=i*i*i\n",
    "    if ((j/4)-float(j//4))==0.0 or ((j/5)-float(j//5))==0.0 :\n",
    "        l.append(i)\n",
    "l"
   ]
  },
  {
   "cell_type": "code",
   "execution_count": 17,
   "id": "52141454-8e6d-4691-9c43-dcf892d5f83e",
   "metadata": {},
   "outputs": [],
   "source": [
    "# Question 4\n",
    "i=1\n",
    "j=1\n",
    "l1=[]\n",
    "while i <= 100 :\n",
    "    j=i*i*i\n",
    "    if ((j/4)==float(j//4)) or ((j/5)==float(j//5)) :\n",
    "        l1.append(i)\n",
    "    i=i+1\n",
    "    l"
   ]
  },
  {
   "cell_type": "code",
   "execution_count": 18,
   "id": "a68e399b-83dd-417c-b865-b7d0b66718b2",
   "metadata": {},
   "outputs": [
    {
     "data": {
      "text/plain": [
       "[2,\n",
       " 4,\n",
       " 5,\n",
       " 6,\n",
       " 8,\n",
       " 10,\n",
       " 12,\n",
       " 14,\n",
       " 15,\n",
       " 16,\n",
       " 18,\n",
       " 20,\n",
       " 22,\n",
       " 24,\n",
       " 25,\n",
       " 26,\n",
       " 28,\n",
       " 30,\n",
       " 32,\n",
       " 34,\n",
       " 35,\n",
       " 36,\n",
       " 38,\n",
       " 40,\n",
       " 42,\n",
       " 44,\n",
       " 45,\n",
       " 46,\n",
       " 48,\n",
       " 50,\n",
       " 52,\n",
       " 54,\n",
       " 55,\n",
       " 56,\n",
       " 58,\n",
       " 60,\n",
       " 62,\n",
       " 64,\n",
       " 65,\n",
       " 66,\n",
       " 68,\n",
       " 70,\n",
       " 72,\n",
       " 74,\n",
       " 75,\n",
       " 76,\n",
       " 78,\n",
       " 80,\n",
       " 82,\n",
       " 84,\n",
       " 85,\n",
       " 86,\n",
       " 88,\n",
       " 90,\n",
       " 92,\n",
       " 94,\n",
       " 95,\n",
       " 96,\n",
       " 98,\n",
       " 100]"
      ]
     },
     "execution_count": 18,
     "metadata": {},
     "output_type": "execute_result"
    }
   ],
   "source": [
    "l1"
   ]
  },
  {
   "cell_type": "code",
   "execution_count": 19,
   "id": "19cf2923-4c3c-4132-9994-2286b209dc44",
   "metadata": {},
   "outputs": [
    {
     "data": {
      "text/plain": [
       "60"
      ]
     },
     "execution_count": 19,
     "metadata": {},
     "output_type": "execute_result"
    }
   ],
   "source": [
    "len(l)"
   ]
  },
  {
   "cell_type": "code",
   "execution_count": 20,
   "id": "ef944139-44d7-4707-81d8-4c2d2aec6fcd",
   "metadata": {},
   "outputs": [
    {
     "data": {
      "text/plain": [
       "60"
      ]
     },
     "execution_count": 20,
     "metadata": {},
     "output_type": "execute_result"
    }
   ],
   "source": [
    "len(l1)"
   ]
  },
  {
   "cell_type": "code",
   "execution_count": 21,
   "id": "4aa6f61d-13a6-4eeb-9b6b-7bda6bcfd553",
   "metadata": {},
   "outputs": [
    {
     "data": {
      "text/plain": [
       "33"
      ]
     },
     "execution_count": 21,
     "metadata": {},
     "output_type": "execute_result"
    }
   ],
   "source": [
    "s = \"I want to become a data scientist\"\n",
    "len(s)"
   ]
  },
  {
   "cell_type": "code",
   "execution_count": 23,
   "id": "81d9ca89-1494-4741-a9cc-e58fb6b139f4",
   "metadata": {},
   "outputs": [
    {
     "data": {
      "text/plain": [
       "[0,\n",
       " 1,\n",
       " 2,\n",
       " 3,\n",
       " 4,\n",
       " 5,\n",
       " 6,\n",
       " 7,\n",
       " 8,\n",
       " 9,\n",
       " 10,\n",
       " 11,\n",
       " 12,\n",
       " 13,\n",
       " 14,\n",
       " 15,\n",
       " 16,\n",
       " 17,\n",
       " 18,\n",
       " 19,\n",
       " 20,\n",
       " 21,\n",
       " 22,\n",
       " 23,\n",
       " 24,\n",
       " 25,\n",
       " 26,\n",
       " 27,\n",
       " 28,\n",
       " 29,\n",
       " 30,\n",
       " 31,\n",
       " 32]"
      ]
     },
     "execution_count": 23,
     "metadata": {},
     "output_type": "execute_result"
    }
   ],
   "source": [
    "list(range(0,33))"
   ]
  },
  {
   "cell_type": "code",
   "execution_count": 26,
   "id": "e02bbd99-66e6-497a-9c84-ac9a76907f9c",
   "metadata": {},
   "outputs": [
    {
     "data": {
      "text/plain": [
       "['a', 'o', 'e', 'o', 'e', 'a', 'a', 'a', 'i', 'e', 'i']"
      ]
     },
     "execution_count": 26,
     "metadata": {},
     "output_type": "execute_result"
    }
   ],
   "source": [
    "# Question 5\n",
    "l2=[]\n",
    "for i in range(0,33):\n",
    "    if s[i]=='a' or  s[i]=='e' or s[i]=='i' or s[i]=='a' or s[i]=='o' or s[i]=='u' :\n",
    "        l2.append(s[i])\n",
    "l2"
   ]
  },
  {
   "cell_type": "code",
   "execution_count": 27,
   "id": "0a4a1bf0-0c9e-4756-83a7-6ee98086276e",
   "metadata": {},
   "outputs": [
    {
     "data": {
      "text/plain": [
       "11"
      ]
     },
     "execution_count": 27,
     "metadata": {},
     "output_type": "execute_result"
    }
   ],
   "source": [
    "len(l2)"
   ]
  },
  {
   "cell_type": "code",
   "execution_count": null,
   "id": "a6fd4b24-fbbd-4a9a-bf91-ee0052687c81",
   "metadata": {},
   "outputs": [],
   "source": []
  }
 ],
 "metadata": {
  "kernelspec": {
   "display_name": "Python 3 (ipykernel)",
   "language": "python",
   "name": "python3"
  },
  "language_info": {
   "codemirror_mode": {
    "name": "ipython",
    "version": 3
   },
   "file_extension": ".py",
   "mimetype": "text/x-python",
   "name": "python",
   "nbconvert_exporter": "python",
   "pygments_lexer": "ipython3",
   "version": "3.10.8"
  },
  "toc-showcode": false
 },
 "nbformat": 4,
 "nbformat_minor": 5
}
